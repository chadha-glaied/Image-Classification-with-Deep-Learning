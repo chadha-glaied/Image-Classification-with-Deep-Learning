{
 "cells": [
  {
   "cell_type": "code",
   "execution_count": 2,
   "id": "6b2456b1",
   "metadata": {},
   "outputs": [],
   "source": [
    "import tensorflow as tf\n"
   ]
  },
  {
   "cell_type": "code",
   "execution_count": 3,
   "id": "e9637d71",
   "metadata": {},
   "outputs": [
    {
     "name": "stderr",
     "output_type": "stream",
     "text": [
      "C:\\Users\\dell\\anaconda3\\envs\\ComputerVision\\lib\\site-packages\\tqdm\\auto.py:21: TqdmWarning: IProgress not found. Please update jupyter and ipywidgets. See https://ipywidgets.readthedocs.io/en/stable/user_install.html\n",
      "  from .autonotebook import tqdm as notebook_tqdm\n"
     ]
    }
   ],
   "source": [
    "import tensorflow_datasets as tfds # pour charger les dataset"
   ]
  },
  {
   "cell_type": "markdown",
   "id": "699d11df",
   "metadata": {},
   "source": [
    "# Q2- Load the pre-existing image dataset MNIST DIGIT."
   ]
  },
  {
   "cell_type": "code",
   "execution_count": 4,
   "id": "0fb463da",
   "metadata": {},
   "outputs": [],
   "source": [
    "(ds_train, ds_test), ds_info = tfds.load(\n",
    "    'mnist',\n",
    "    split=['train', 'test'],\n",
    "    shuffle_files=True,\n",
    "    as_supervised=True,\n",
    "    with_info=True,\n",
    ")"
   ]
  },
  {
   "cell_type": "markdown",
   "id": "3203c5e5",
   "metadata": {},
   "source": [
    "Q3- Explore the dataset (e.g., print the shapes of training and test sets and display a few sample images)"
   ]
  },
  {
   "cell_type": "code",
   "execution_count": 5,
   "id": "baa3a1fe",
   "metadata": {},
   "outputs": [
    {
     "name": "stdout",
     "output_type": "stream",
     "text": [
      "Number of training examples: 60000\n",
      "Number of test examples: 10000\n"
     ]
    }
   ],
   "source": [
    "# Print the shapes of training and test sets\n",
    "print(\"Number of training examples:\", ds_info.splits['train'].num_examples)\n",
    "print(\"Number of test examples:\", ds_info.splits['test'].num_examples)"
   ]
  },
  {
   "cell_type": "code",
   "execution_count": 6,
   "id": "c8389e42",
   "metadata": {},
   "outputs": [
    {
     "data": {
      "image/png": "[encoded data removed]",
      "text/plain": [
       "<Figure size 800x800 with 9 Axes>"
      ]
     },
     "metadata": {},
     "output_type": "display_data"
    }
   ],
   "source": [
    "\n",
    "import matplotlib.pyplot as plt\n",
    "# Display a few sample images from the training set\n",
    "fig, axes = plt.subplots(3, 3, figsize=(8, 8))\n",
    "for i, (image, label) in enumerate(ds_train.take(9)):\n",
    "    ax = axes[i // 3, i % 3]\n",
    "    ax.imshow(image.numpy(), cmap='gray')\n",
    "    ax.set_title(f\"Label: {label.numpy()}\")\n",
    "    ax.axis('off')\n",
    "\n",
    "plt.show()"
   ]
  },
  {
   "cell_type": "markdown",
   "id": "f20cdde1",
   "metadata": {},
   "source": [
    "Q4- Preprocess the dataset by normalizing pixel values to the range [0, 1]."
   ]
  },
  {
   "cell_type": "code",
   "execution_count": 7,
   "id": "d679178f",
   "metadata": {},
   "outputs": [],
   "source": [
    "# Define a function to normalize pixel values to the range [0, 1]\n",
    "def normalize_images(image, label):\n",
    "    # Convert pixel values to float32 and normalize to [0, 1]\n",
    "    image = tf.cast(image, tf.float32) / 255.0\n",
    "    return image, label\n",
    "\n",
    "# Apply the normalization function to the datasets\n",
    "#ds_train = ds_train.map(normalize_images)\n",
    "#ds_test = ds_test.map(normalize_images)\n",
    "\n",
    "# Print the shapes of the training and test sets after normalization\n",
    "#print(\"Shape of the training set (images) after normalization:\", ds_train)\n",
    "#print(\"Shape of the test set (images) after normalization:\", ds_test)"
   ]
  },
  {
   "cell_type": "code",
   "execution_count": 8,
   "id": "63f05e93",
   "metadata": {},
   "outputs": [],
   "source": [
    "#Q5- Build a training pipeline and an evaluation pipeline by applying the following transformations: tf.data.Dataset.map, tf.data.Dataset.cache, tf.data.Dataset.shuffle, tf.data.Dataset.batch, and tf.data.Dataset.prefetch."
   ]
  },
  {
   "cell_type": "code",
   "execution_count": 9,
   "id": "aa30bfed",
   "metadata": {},
   "outputs": [],
   "source": [
    "# Définir la taille des lots (batch size)\n",
    "batch_size = 64\n",
    "\n",
    "# Créer un pipeline de traitement de données pour l'entraînement\n",
    "train_pipeline = ds_train.map(normalize_images)  # Normalisation deja fais dans question 4\n",
    "train_pipeline = train_pipeline.cache()            # Mise en cache\n",
    "train_pipeline = train_pipeline.shuffle(buffer_size=10000)  # Mélange aléatoire\n",
    "train_pipeline = train_pipeline.batch(batch_size)  # Regroupement en lots\n",
    "train_pipeline = train_pipeline.prefetch(buffer_size=tf.data.experimental.AUTOTUNE)  # Préchargement en arrière-plan\n",
    "\n",
    "# Créer un pipeline de traitement de données pour l'évaluation\n",
    "test_pipeline = ds_test.map(normalize_images)    # Normalisation\n",
    "test_pipeline = test_pipeline.cache()              # Mise en cache\n",
    "test_pipeline = test_pipeline.batch(batch_size)    # Regroupement en lots\n",
    "test_pipeline = test_pipeline.prefetch(buffer_size=tf.data.experimental.AUTOTUNE)  # Préchargement en arrière-plan"
   ]
  },
  {
   "cell_type": "markdown",
   "id": "f5a26296",
   "metadata": {},
   "source": [
    "2.Create, Train, and Evaluate the MLP Model"
   ]
  },
  {
   "cell_type": "code",
   "execution_count": null,
   "id": "1e9d1b6a",
   "metadata": {},
   "outputs": [],
   "source": [
    "#donnnes tabulaire comme .CSV\n",
    "#ona L = 4 les input man7sbohimch"
   ]
  },
  {
   "cell_type": "code",
   "execution_count": 14,
   "id": "9a87c4bd",
   "metadata": {},
   "outputs": [
    {
     "name": "stdout",
     "output_type": "stream",
     "text": [
      "Epoch 1/6\n",
      "938/938 [==============================] - 6s 6ms/step - loss: 0.2320 - sparse_categorical_accuracy: 0.9305 - val_loss: 0.1136 - val_sparse_categorical_accuracy: 0.9655\n",
      "Epoch 2/6\n",
      "938/938 [==============================] - 5s 6ms/step - loss: 0.0926 - sparse_categorical_accuracy: 0.9716 - val_loss: 0.0833 - val_sparse_categorical_accuracy: 0.9748\n",
      "Epoch 3/6\n",
      "938/938 [==============================] - 6s 6ms/step - loss: 0.0636 - sparse_categorical_accuracy: 0.9798 - val_loss: 0.0863 - val_sparse_categorical_accuracy: 0.9729\n",
      "Epoch 4/6\n",
      "938/938 [==============================] - 6s 6ms/step - loss: 0.0479 - sparse_categorical_accuracy: 0.9846 - val_loss: 0.0882 - val_sparse_categorical_accuracy: 0.9732\n",
      "Epoch 5/6\n",
      "938/938 [==============================] - 5s 5ms/step - loss: 0.0355 - sparse_categorical_accuracy: 0.9887 - val_loss: 0.0806 - val_sparse_categorical_accuracy: 0.9786\n",
      "Epoch 6/6\n",
      "938/938 [==============================] - 6s 6ms/step - loss: 0.0320 - sparse_categorical_accuracy: 0.9895 - val_loss: 0.0835 - val_sparse_categorical_accuracy: 0.9755\n"
     ]
    },
    {
     "data": {
      "text/plain": [
       "<keras.src.callbacks.History at 0x1c1c3604c70>"
      ]
     },
     "execution_count": 14,
     "metadata": {},
     "output_type": "execute_result"
    }
   ],
   "source": [
    "model = tf.keras.models.Sequential([\n",
    "  tf.keras.layers.Flatten(input_shape=(28, 28)),\n",
    "  tf.keras.layers.Dense(256, activation='relu'),\n",
    "  tf.keras.layers.Dense(128, activation='relu'),\n",
    "  tf.keras.layers.Dense(64, activation='relu'),\n",
    "  tf.keras.layers.Dense(10)\n",
    "])\n",
    "model.compile(\n",
    "    optimizer=tf.keras.optimizers.Adam(0.001),\n",
    "    loss=tf.keras.losses.SparseCategoricalCrossentropy(from_logits=True),\n",
    "    metrics=[tf.keras.metrics.SparseCategoricalAccuracy()],\n",
    ")\n",
    "\n",
    "model.fit(train_pipeline, epochs=6,validation_data=test_pipeline)"
   ]
  },
  {
   "cell_type": "code",
   "execution_count": null,
   "id": "e0daff13",
   "metadata": {},
   "outputs": [],
   "source": [
    "afficher les courbe loss et acruse pour train et test"
   ]
  },
  {
   "cell_type": "markdown",
   "id": "cfced449",
   "metadata": {},
   "source": [
    "3.Create, Train, and Evaluate the CNN Model"
   ]
  },
  {
   "cell_type": "code",
   "execution_count": 20,
   "id": "c94cb64f",
   "metadata": {},
   "outputs": [],
   "source": [
    "from tensorflow.keras import datasets, layers, models\n",
    "model = models.Sequential()\n",
    "model.add(layers.Conv2D(32, (3, 3),padding=\"same\", activation='relu', input_shape=(28, 28, 1)))\n",
    "model.add(layers.MaxPooling2D((2, 2)))\n",
    "model.add(layers.Conv2D(64, (3, 3),padding=\"same\", activation='relu'))\n",
    "model.add(layers.MaxPooling2D((2, 2)))\n"
   ]
  },
  {
   "cell_type": "code",
   "execution_count": 21,
   "id": "ba4c290d",
   "metadata": {},
   "outputs": [
    {
     "name": "stdout",
     "output_type": "stream",
     "text": [
      "Model: \"sequential_8\"\n",
      "_________________________________________________________________\n",
      " Layer (type)                Output Shape              Param #   \n",
      "=================================================================\n",
      " conv2d_12 (Conv2D)          (None, 28, 28, 32)        320       \n",
      "                                                                 \n",
      " max_pooling2d_8 (MaxPoolin  (None, 14, 14, 32)        0         \n",
      " g2D)                                                            \n",
      "                                                                 \n",
      " conv2d_13 (Conv2D)          (None, 14, 14, 64)        18496     \n",
      "                                                                 \n",
      " max_pooling2d_9 (MaxPoolin  (None, 7, 7, 64)          0         \n",
      " g2D)                                                            \n",
      "                                                                 \n",
      "=================================================================\n",
      "Total params: 18816 (73.50 KB)\n",
      "Trainable params: 18816 (73.50 KB)\n",
      "Non-trainable params: 0 (0.00 Byte)\n",
      "_________________________________________________________________\n"
     ]
    }
   ],
   "source": [
    "model.summary()"
   ]
  },
  {
   "cell_type": "code",
   "execution_count": null,
   "id": "33c2b962",
   "metadata": {},
   "outputs": [],
   "source": [
    "#Ajouter des couches denses sur le dessus"
   ]
  },
  {
   "cell_type": "code",
   "execution_count": 22,
   "id": "5647c375",
   "metadata": {},
   "outputs": [
    {
     "name": "stdout",
     "output_type": "stream",
     "text": [
      "Model: \"sequential_8\"\n",
      "_________________________________________________________________\n",
      " Layer (type)                Output Shape              Param #   \n",
      "=================================================================\n",
      " conv2d_12 (Conv2D)          (None, 28, 28, 32)        320       \n",
      "                                                                 \n",
      " max_pooling2d_8 (MaxPoolin  (None, 14, 14, 32)        0         \n",
      " g2D)                                                            \n",
      "                                                                 \n",
      " conv2d_13 (Conv2D)          (None, 14, 14, 64)        18496     \n",
      "                                                                 \n",
      " max_pooling2d_9 (MaxPoolin  (None, 7, 7, 64)          0         \n",
      " g2D)                                                            \n",
      "                                                                 \n",
      " flatten_4 (Flatten)         (None, 3136)              0         \n",
      "                                                                 \n",
      " dense_16 (Dense)            (None, 64)                200768    \n",
      "                                                                 \n",
      " dense_17 (Dense)            (None, 10)                650       \n",
      "                                                                 \n",
      "=================================================================\n",
      "Total params: 220234 (860.29 KB)\n",
      "Trainable params: 220234 (860.29 KB)\n",
      "Non-trainable params: 0 (0.00 Byte)\n",
      "_________________________________________________________________\n"
     ]
    }
   ],
   "source": [
    "model.add(layers.Flatten())\n",
    "model.add(layers.Dense(64, activation='relu'))\n",
    "model.add(layers.Dense(10))\n",
    "\n",
    "model.summary()"
   ]
  },
  {
   "cell_type": "code",
   "execution_count": null,
   "id": "2118f311",
   "metadata": {},
   "outputs": [],
   "source": [
    "#Compiler et entraîner le modèle"
   ]
  },
  {
   "cell_type": "code",
   "execution_count": 29,
   "id": "8b42dbb1",
   "metadata": {
    "scrolled": false
   },
   "outputs": [
    {
     "name": "stdout",
     "output_type": "stream",
     "text": [
      "Epoch 1/10\n",
      "938/938 [==============================] - 45s 47ms/step - loss: 0.1730 - accuracy: 0.9475 - val_loss: 0.0498 - val_accuracy: 0.9831\n",
      "Epoch 2/10\n",
      "938/938 [==============================] - 44s 47ms/step - loss: 0.0508 - accuracy: 0.9847 - val_loss: 0.0382 - val_accuracy: 0.9882\n",
      "Epoch 3/10\n",
      "938/938 [==============================] - 47s 50ms/step - loss: 0.0364 - accuracy: 0.9886 - val_loss: 0.0367 - val_accuracy: 0.9872\n",
      "Epoch 4/10\n",
      "938/938 [==============================] - 46s 50ms/step - loss: 0.0279 - accuracy: 0.9910 - val_loss: 0.0317 - val_accuracy: 0.9900\n",
      "Epoch 5/10\n",
      "938/938 [==============================] - 47s 50ms/step - loss: 0.0211 - accuracy: 0.9932 - val_loss: 0.0315 - val_accuracy: 0.9893\n",
      "Epoch 6/10\n",
      "938/938 [==============================] - 43s 46ms/step - loss: 0.0165 - accuracy: 0.9946 - val_loss: 0.0279 - val_accuracy: 0.9909\n",
      "Epoch 7/10\n",
      "938/938 [==============================] - 36s 38ms/step - loss: 0.0127 - accuracy: 0.9960 - val_loss: 0.0282 - val_accuracy: 0.9913\n",
      "Epoch 8/10\n",
      "938/938 [==============================] - 37s 40ms/step - loss: 0.0109 - accuracy: 0.9966 - val_loss: 0.0277 - val_accuracy: 0.9912\n",
      "Epoch 9/10\n",
      "938/938 [==============================] - 37s 40ms/step - loss: 0.0082 - accuracy: 0.9975 - val_loss: 0.0334 - val_accuracy: 0.9896\n",
      "Epoch 10/10\n",
      "938/938 [==============================] - 38s 40ms/step - loss: 0.0079 - accuracy: 0.9973 - val_loss: 0.0359 - val_accuracy: 0.9903\n"
     ]
    }
   ],
   "source": [
    "model.compile(optimizer='adam',\n",
    "              loss=tf.keras.losses.SparseCategoricalCrossentropy(from_logits=True),\n",
    "              metrics=['accuracy'])\n",
    "\n",
    "history = model.fit(train_pipeline, epochs=10, \n",
    "                    validation_data=(test_pipeline))"
   ]
  },
  {
   "cell_type": "code",
   "execution_count": null,
   "id": "26f43c3f",
   "metadata": {},
   "outputs": [],
   "source": [
    "#Évaluer le modèle"
   ]
  },
  {
   "cell_type": "code",
   "execution_count": 32,
   "id": "d88b3a7b",
   "metadata": {},
   "outputs": [
    {
     "name": "stdout",
     "output_type": "stream",
     "text": [
      "157/157 - 1s - loss: 0.0359 - accuracy: 0.9903 - 1s/epoch - 7ms/step\n"
     ]
    },
    {
     "data": {
      "image/png": "[encoded data removed]",
      "text/plain": [
       "<Figure size 640x480 with 1 Axes>"
      ]
     },
     "metadata": {},
     "output_type": "display_data"
    }
   ],
   "source": [
    "plt.plot(history.history['accuracy'], label='accuracy')\n",
    "plt.plot(history.history['val_accuracy'], label = 'val_accuracy')\n",
    "plt.xlabel('Epoch')\n",
    "plt.ylabel('Accuracy')\n",
    "plt.ylim([0.5, 1])\n",
    "plt.legend(loc='lower right')\n",
    "\n",
    "test_loss, test_acc = model.evaluate(test_pipeline,  verbose=2)"
   ]
  },
  {
   "cell_type": "code",
   "execution_count": 33,
   "id": "f053629d",
   "metadata": {},
   "outputs": [
    {
     "name": "stdout",
     "output_type": "stream",
     "text": [
      "0.9902999997138977\n"
     ]
    }
   ],
   "source": [
    "print(test_acc)"
   ]
  },
  {
   "cell_type": "code",
   "execution_count": 34,
   "id": "f35d3f95",
   "metadata": {},
   "outputs": [],
   "source": [
    "#Évaluer le modèle accuracy et loss"
   ]
  },
  {
   "cell_type": "code",
   "execution_count": 37,
   "id": "a19a825f",
   "metadata": {},
   "outputs": [
    {
     "name": "stdout",
     "output_type": "stream",
     "text": [
      "157/157 - 1s - loss: 0.0359 - accuracy: 0.9903 - 1s/epoch - 7ms/step\n",
      "Test loss: 0.035940803587436676\n",
      "Test accuracy: 0.9902999997138977\n"
     ]
    },
    {
     "data": {
      "image/png": "[encoded data removed]",
      "text/plain": [
       "<Figure size 640x480 with 1 Axes>"
      ]
     },
     "metadata": {},
     "output_type": "display_data"
    }
   ],
   "source": [
    "# Afficher les courbes d'exactitude\n",
    "plt.plot(history.history['accuracy'], label='accuracy')\n",
    "plt.plot(history.history['val_accuracy'], label='val_accuracy')\n",
    "\n",
    "# Afficher les courbes de perte\n",
    "plt.plot(history.history['loss'], label='loss')\n",
    "plt.plot(history.history['val_loss'], label='val_loss')\n",
    "\n",
    "plt.xlabel('Epoch')\n",
    "plt.ylabel('Accuracy / Loss')\n",
    "plt.ylim([0, 1])  # Ajustez la plage Y en fonction de vos données d'exactitude\n",
    "plt.legend(loc='upper right')\n",
    "\n",
    "# Évaluer le modèle sur l'ensemble de test\n",
    "test_loss, test_acc = model.evaluate(test_pipeline, verbose=2)\n",
    "print(\"Test loss:\", test_loss)\n",
    "print(\"Test accuracy:\", test_acc)\n",
    "\n",
    "# Afficher le graphique\n",
    "plt.show()\n"
   ]
  },
  {
   "cell_type": "code",
   "execution_count": null,
   "id": "97775f70",
   "metadata": {},
   "outputs": [],
   "source": []
  }
 ],
 "metadata": {
  "kernelspec": {
   "display_name": "Python 3 (ipykernel)",
   "language": "python",
   "name": "python3"
  },
  "language_info": {
   "codemirror_mode": {
    "name": "ipython",
    "version": 3
   },
   "file_extension": ".py",
   "mimetype": "text/x-python",
   "name": "python",
   "nbconvert_exporter": "python",
   "pygments_lexer": "ipython3",
   "version": "3.8.18"
  }
 },
 "nbformat": 4,
 "nbformat_minor": 5
}
